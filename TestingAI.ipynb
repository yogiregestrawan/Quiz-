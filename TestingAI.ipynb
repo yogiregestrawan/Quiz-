{
  "nbformat": 4,
  "nbformat_minor": 0,
  "metadata": {
    "colab": {
      "provenance": [],
      "gpuType": "V28",
      "authorship_tag": "ABX9TyMP/oIBek7481zMWslrsY9F",
      "include_colab_link": true
    },
    "kernelspec": {
      "name": "python3",
      "display_name": "Python 3"
    },
    "language_info": {
      "name": "python"
    },
    "accelerator": "TPU"
  },
  "cells": [
    {
      "cell_type": "markdown",
      "metadata": {
        "id": "view-in-github",
        "colab_type": "text"
      },
      "source": [
        "<a href=\"https://colab.research.google.com/github/yogiregestrawan/Quiz-/blob/main/TestingAI.ipynb\" target=\"_parent\"><img src=\"https://colab.research.google.com/assets/colab-badge.svg\" alt=\"Open In Colab\"/></a>"
      ]
    },
    {
      "cell_type": "code",
      "execution_count": null,
      "metadata": {
        "id": "68q6fAeMIJXd"
      },
      "outputs": [],
      "source": [
        "#import pandas untuk load dan prosessing dataset\n",
        "import pandas as pd\n",
        "\n",
        "\n",
        "\n",
        "#import train_test_split untuk membagi dataset\n",
        "from sklearn.model_selection import train_test_split\n",
        "\n",
        "#import model ML untuk klasifikasi -> RandomForest dan SVC\n",
        "from sklearn.ensemble import RandomForestClassifier\n",
        "from sklearn.svm import SVC\n",
        "\n"
      ]
    },
    {
      "cell_type": "markdown",
      "source": [
        "# Bagian Baru"
      ],
      "metadata": {
        "id": "mEFyAM7VMqWz"
      }
    },
    {
      "cell_type": "code",
      "source": [
        "dataset = pd.read_csv('/content/Testing_data/diabetes.csv')\n",
        "#dataset.describe()"
      ],
      "metadata": {
        "id": "_AJoPkm6PIk2"
      },
      "execution_count": null,
      "outputs": []
    },
    {
      "cell_type": "code",
      "source": [
        "from re import X\n",
        "x = dataset.drop('Outcome', axis=1)\n",
        "y = dataset['Outcome']\n",
        "print(x.shape, y.shape)\n",
        "\n"
      ],
      "metadata": {
        "colab": {
          "base_uri": "https://localhost:8080/"
        },
        "id": "yU0jD4TDQ-Vc",
        "outputId": "50669bf8-d8fd-4e5a-aa9e-0e634185d90e"
      },
      "execution_count": null,
      "outputs": [
        {
          "output_type": "stream",
          "name": "stdout",
          "text": [
            "(768, 8) (768,)\n"
          ]
        }
      ]
    },
    {
      "cell_type": "code",
      "source": [
        "data_train, data_test, label_train, label_test = train_test_split(x, y, test_size=0.2)\n",
        "print(data_train.shape, data_test.shape, label_train.shape, label_test.shape)"
      ],
      "metadata": {
        "colab": {
          "base_uri": "https://localhost:8080/"
        },
        "id": "OUIKXEHHSQk9",
        "outputId": "d50aec4e-3e4d-4b37-df85-44f6c3ae762c"
      },
      "execution_count": null,
      "outputs": [
        {
          "output_type": "stream",
          "name": "stdout",
          "text": [
            "(614, 8) (154, 8) (614,) (154,)\n"
          ]
        }
      ]
    },
    {
      "cell_type": "code",
      "source": [
        "#import model RandomForestClassifier ke var modedl_rf (bebas)\n",
        "model_rf = RandomForestClassifier()\n",
        "\n",
        "#train model dan simpan kedalam var trained_model_rf (bebas)\n",
        "trained_model_rf = model_rf.fit(data_train, label_train)\n",
        "\n",
        "#test model dengan dataset\n",
        "trained_model_rf.score(data_test, label_test)*100"
      ],
      "metadata": {
        "colab": {
          "base_uri": "https://localhost:8080/"
        },
        "id": "9MRQW79nUt5u",
        "outputId": "4779796e-812c-45de-806e-2adf69e9774d"
      },
      "execution_count": null,
      "outputs": [
        {
          "output_type": "execute_result",
          "data": {
            "text/plain": [
              "75.32467532467533"
            ]
          },
          "metadata": {},
          "execution_count": 30
        }
      ]
    },
    {
      "cell_type": "code",
      "source": [
        "model_svc = SVC()\n",
        "\n",
        "trained_model_svc = model_svc.fit(data_train, label_train)\n",
        "\n",
        "trained_model_svc.score(data_test, label_test)*100\n",
        "\n"
      ],
      "metadata": {
        "colab": {
          "base_uri": "https://localhost:8080/"
        },
        "id": "Wd-9WVQnWvxY",
        "outputId": "03f71eca-94e6-4dba-d74c-a3dde640bf68"
      },
      "execution_count": null,
      "outputs": [
        {
          "output_type": "execute_result",
          "data": {
            "text/plain": [
              "70.77922077922078"
            ]
          },
          "metadata": {},
          "execution_count": 19
        }
      ]
    },
    {
      "cell_type": "code",
      "source": [
        "hasil_uji = trained_model_svc.predict([[8,99,84,0,0,35.4,0.388,50]])\n",
        "print(hasil_uji[0])\n",
        "\n",
        "hasil_uji2 = trained_model_rf.predict([[8,99,84,0,0,35.4,0.388,50]])\n",
        "print(hasil_uji2[0])"
      ],
      "metadata": {
        "colab": {
          "base_uri": "https://localhost:8080/"
        },
        "id": "VHA-20RxYuAd",
        "outputId": "7f9fa5d5-200d-497b-b413-ebc779f90ea9"
      },
      "execution_count": null,
      "outputs": [
        {
          "output_type": "stream",
          "name": "stdout",
          "text": [
            "0\n",
            "0\n"
          ]
        },
        {
          "output_type": "stream",
          "name": "stderr",
          "text": [
            "/usr/local/lib/python3.10/dist-packages/sklearn/base.py:493: UserWarning: X does not have valid feature names, but SVC was fitted with feature names\n",
            "  warnings.warn(\n",
            "/usr/local/lib/python3.10/dist-packages/sklearn/base.py:493: UserWarning: X does not have valid feature names, but RandomForestClassifier was fitted with feature names\n",
            "  warnings.warn(\n"
          ]
        }
      ]
    },
    {
      "cell_type": "code",
      "source": [
        "import"
      ],
      "metadata": {
        "id": "WURyjHOkZtQM"
      },
      "execution_count": null,
      "outputs": []
    }
  ]
}